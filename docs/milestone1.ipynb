{
 "cells": [
  {
   "cell_type": "markdown",
   "metadata": {},
   "source": [
    "# How To Use This Package\n",
    "\n",
    "***\n",
    "\n",
    "## Formatting inputs\n",
    "For simplicity, we restrict how inputs should be formatted. \n",
    "\n",
    "We expect functions to be passed into the `Differentiator` as strings. The `Differentiator` is loaded with functions from a txt file, with all of the functions separated by a newline. \n",
    "\n",
    "Variables should contain alpha characters. Variables that are multiplied together should be denoted with an asterisk, such as: `x*y` vs. `xy`. Variables multiplied by constants should also be multiplied with an asterisk. `3x` may be interpreted as a single variable instead of a variable multiplied with a constant. Similarly, two variables multiplied together without asterisk separation will be read as a single variable. \n",
    "\n",
    "Parsing is not whitespace sensitive. \n",
    "\n",
    "Because of how function parsing is implemented, a set of parentheses should only contain one operator that is not contained within another set of parentheses. This implies that `(2*((x+y)+z))` is a valid function while `(2*(x+y+z))` is not, even though addition is commutative. \n",
    "\n",
    "***\n",
    "\n",
    "## Additional Imports\n",
    "CMake should be installed following these instructions: https://cmake.org/install/\n",
    "\n",
    "All other external dependencies are handled by the library. \n",
    "\n",
    "***\n",
    "\n",
    "## Object Instantiation\n",
    "\n",
    "The only class exposed by the package is the `Differentiator`. \n",
    "\n",
    "It can be constructed as `Differentiator()` or `Differentiator(int num_inputs, int num_functions)`. `Load(const std::string & filename)` is then used to load functions from a file into the `Differentiator` object. All functions must be separated with a newline and conform to the function specfications mentioned above. \n",
    "\n",
    "The user can then interact with this object by running commands such as `Run()` to compute the forward mode of the current configuration or `SetFunction(const std::string& func, int i)` to set the $\\textit{i}$'th function. "
   ]
  },
  {
   "cell_type": "markdown",
   "metadata": {},
   "source": [
    "# Software Organization and Package Access"
   ]
  },
  {
   "cell_type": "markdown",
   "metadata": {},
   "source": [
    "## What will the directory structure look like?\n",
    "```\n",
    "root \n",
    "|---docs\n",
    "|---src\n",
    "|   |---Differentiator.h\n",
    "    |---parsing\n",
    "    |---tracing\n",
    "|---bin\n",
    "|   |---lib\n",
    "|---build\n",
    "|---testing\n",
    "```\n",
    "***\n",
    "\n",
    "## What external libraries do you plan on including? What is their basic functionality? What about internal classes and methods\n",
    "\n",
    "External libraries used include `gtest` for unit testing this package. `absl` is used to augment functionality from the C++ STL; we use this particular library to handle errors. \n",
    "\n",
    "Internally, we have classes for the `Differentiator`, `Parser`, `Trace`, `TraceRow`, and `Operator`. More information for their uses and member functions can be found in the implementation section of the documentation. The user will only directly interact with the `Differentiator` object. \n",
    "***\n",
    "\n",
    "## Where will your test suite live? Will you use TravisCI or CodeCov?\n",
    "\n",
    "Tests will live in their own folder underneath the project root directory. This project will use both TravisCI and CodeCov. TravisCI will be used to run these tests to ensure that the current code iteration is buildable and correct. CodeCov will be used to ensure that the entire library is rigorously unit-tested. \n",
    "\n",
    "***\n",
    "\n",
    "## How will you distribute and package your software? \n",
    "\n",
    "This automatic differentiation package is an ongoing work located at https://github.com/79-99/cs107-FinalProject. \n",
    "\n",
    "To use, you could consider: \n",
    "1. Cloning the git repository into where your project and accessing its header files\n",
    "2. Using git submodules\n",
    "\n",
    "If you choose to use this package as a git submodule, please follow these instructions: https://git-scm.com/book/en/v2/Git-Tools-Submodules\n",
    "\n",
    "To compile, a configure.sh script will be included. Runinng the script will generate all of the necessary makefiles; running make in the project root folder will compile and publish the .so library to project_root/bin/lib. \n",
    "\n",
    "***\n",
    "\n",
    "After getting the core functionality up, as an extension we intend to make this library python compatible. Once that functionality is up, we intend to also make this library pip installable. "
   ]
  },
  {
   "cell_type": "code",
   "execution_count": null,
   "metadata": {},
   "outputs": [],
   "source": []
  }
 ],
 "metadata": {
  "kernelspec": {
   "display_name": "Python 3",
   "language": "python",
   "name": "python3"
  },
  "language_info": {
   "codemirror_mode": {
    "name": "ipython",
    "version": 3
   },
   "file_extension": ".py",
   "mimetype": "text/x-python",
   "name": "python",
   "nbconvert_exporter": "python",
   "pygments_lexer": "ipython3",
   "version": "3.8.2"
  }
 },
 "nbformat": 4,
 "nbformat_minor": 4
}
